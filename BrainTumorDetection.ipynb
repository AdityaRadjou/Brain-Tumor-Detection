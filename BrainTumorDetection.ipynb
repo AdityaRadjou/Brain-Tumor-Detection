{
  "nbformat": 4,
  "nbformat_minor": 0,
  "metadata": {
    "colab": {
      "provenance": [],
      "gpuType": "T4",
      "authorship_tag": "ABX9TyPFXXcAAEdlmNGRPIMUahvb",
      "include_colab_link": true
    },
    "kernelspec": {
      "name": "python3",
      "display_name": "Python 3"
    },
    "language_info": {
      "name": "python"
    },
    "accelerator": "GPU"
  },
  "cells": [
    {
      "cell_type": "markdown",
      "metadata": {
        "id": "view-in-github",
        "colab_type": "text"
      },
      "source": [
        "<a href=\"https://colab.research.google.com/github/AdityaRadjou/Brain-Tumor-Detection/blob/main/BrainTumorDetection.ipynb\" target=\"_parent\"><img src=\"https://colab.research.google.com/assets/colab-badge.svg\" alt=\"Open In Colab\"/></a>"
      ]
    },
    {
      "cell_type": "code",
      "execution_count": 1,
      "metadata": {
        "colab": {
          "base_uri": "https://localhost:8080/"
        },
        "id": "NYI9YUYeE4lW",
        "outputId": "379cc9c3-4299-4370-c75a-dd3f6a698d79"
      },
      "outputs": [
        {
          "output_type": "stream",
          "name": "stdout",
          "text": [
            "Mounted at /content/drive\n"
          ]
        }
      ],
      "source": [
        "from google.colab import drive\n",
        "drive.mount('/content/drive')"
      ]
    },
    {
      "cell_type": "code",
      "source": [
        "import numpy as np\n",
        "import os\n",
        "import tqdm\n",
        "import matplotlib.pyplot as plt\n",
        "from PIL import Image\n",
        "from sklearn.model_selection import train_test_split\n",
        "import cv2\n",
        "from sklearn.utils import shuffle\n",
        "from keras.models import Sequential\n",
        "from keras.layers import Conv2D, Flatten, Dense, MaxPooling2D, Dropout\n",
        "import tensorflow as tf\n",
        "from sklearn.metrics import accuracy_score"
      ],
      "metadata": {
        "id": "mpEU2rfIby19"
      },
      "execution_count": 2,
      "outputs": []
    },
    {
      "cell_type": "code",
      "source": [
        "root_dir = \"./drive/MyDrive/data\"\n",
        "\n",
        "classes = {'notumor': 0, 'glioma': 1,'meningioma': 2, 'pituitary': 3}\n",
        "\n",
        "images = [] #will contain all images\n",
        "targets = [] #will contains the target of the images\n",
        "\n",
        "def get_data_by_class(c):\n",
        "  class_dir = os.path.join(root_dir,c)\n",
        "  images = []\n",
        "  for i in os.listdir(class_dir):\n",
        "    img = cv2.imread(os.path.join(class_dir,i),cv2.IMREAD_GRAYSCALE)\n",
        "    img = cv2.resize(img,(128,128))\n",
        "    images.append(img)\n",
        "  return np.array(images)\n",
        "\n",
        "data = []\n",
        "for c in classes:\n",
        "  data.append(get_data_by_class(c))"
      ],
      "metadata": {
        "id": "q1uiX2RLf3kp"
      },
      "execution_count": 3,
      "outputs": []
    },
    {
      "cell_type": "code",
      "source": [
        "labels = [c for c in classes]\n",
        "sizes = [len(data[i]) for i in range(4)]\n",
        "\n",
        "plt.scatter(labels,sizes)\n",
        "plt.title(\"Number of images per label\")\n",
        "plt.xlabel(\"label\")\n",
        "plt.ylabel(\"number of images\")\n",
        "plt.show()"
      ],
      "metadata": {
        "colab": {
          "base_uri": "https://localhost:8080/",
          "height": 472
        },
        "id": "K1m6DV2vukLd",
        "outputId": "c0119a4b-f5f4-4f02-ab22-2815cf82c863"
      },
      "execution_count": 4,
      "outputs": [
        {
          "output_type": "display_data",
          "data": {
            "text/plain": [
              "<Figure size 640x480 with 1 Axes>"
            ],
            "image/png": "[encoded data removed]"
          },
          "metadata": {}
        }
      ]
    },
    {
      "cell_type": "code",
      "source": [
        "n = min(sizes)\n",
        "\n",
        "images, targets = [],[]\n",
        "for c in classes:\n",
        "  images.extend(shuffle(data[classes[c]],n_samples=n))\n",
        "  targets.extend([classes[c]]*n)\n",
        "\n",
        "shuffle_indices = np.random.permutation(range(len(images)))\n",
        "images = np.array(images)[shuffle_indices]\n",
        "targets = np.array(targets)[shuffle_indices]\n",
        "\n",
        "images = images/255"
      ],
      "metadata": {
        "id": "dYIl2BTuyC-P"
      },
      "execution_count": 5,
      "outputs": []
    },
    {
      "cell_type": "code",
      "source": [
        "Xtrain, Xtest, ytrain, ytest = train_test_split(images,targets,test_size=0.2)"
      ],
      "metadata": {
        "id": "BoRqT4hKt9vj"
      },
      "execution_count": 6,
      "outputs": []
    },
    {
      "cell_type": "code",
      "source": [
        "ytrain = tf.keras.utils.to_categorical(ytrain)\n",
        "ytest = tf.keras.utils.to_categorical(ytest)"
      ],
      "metadata": {
        "id": "9lHYqMCk70gn"
      },
      "execution_count": 7,
      "outputs": []
    },
    {
      "cell_type": "code",
      "source": [
        "CNN = Sequential()\n",
        "CNN.add(Conv2D(16,(3,3),activation=\"relu\",input_shape=(128,128,1)))\n",
        "CNN.add(Conv2D(32,(3,3),activation=\"relu\"))\n",
        "CNN.add(MaxPooling2D())\n",
        "CNN.add(Conv2D(64,(3,3),activation=\"relu\"))\n",
        "CNN.add(MaxPooling2D())\n",
        "CNN.add(Conv2D(128,(3,3),activation=\"relu\"))\n",
        "CNN.add(MaxPooling2D())\n",
        "CNN.add(Dropout(0.25))\n",
        "CNN.add(Flatten())\n",
        "CNN.add(Dense(64,activation=\"relu\"))\n",
        "CNN.add(Dropout(0.25))\n",
        "CNN.add(Dense(4,activation=\"sigmoid\"))"
      ],
      "metadata": {
        "id": "2iDs0pRN_Y0y"
      },
      "execution_count": 8,
      "outputs": []
    },
    {
      "cell_type": "code",
      "source": [
        "CNN.summary()"
      ],
      "metadata": {
        "colab": {
          "base_uri": "https://localhost:8080/"
        },
        "id": "pdKcTSz8Bkqh",
        "outputId": "ff7dc3c2-e72c-4dc5-8085-3ee8e7b1ae29"
      },
      "execution_count": 9,
      "outputs": [
        {
          "output_type": "stream",
          "name": "stdout",
          "text": [
            "Model: \"sequential\"\n",
            "_________________________________________________________________\n",
            " Layer (type)                Output Shape              Param #   \n",
            "=================================================================\n",
            " conv2d (Conv2D)             (None, 126, 126, 16)      160       \n",
            "                                                                 \n",
            " conv2d_1 (Conv2D)           (None, 124, 124, 32)      4640      \n",
            "                                                                 \n",
            " max_pooling2d (MaxPooling2  (None, 62, 62, 32)        0         \n",
            " D)                                                              \n",
            "                                                                 \n",
            " conv2d_2 (Conv2D)           (None, 60, 60, 64)        18496     \n",
            "                                                                 \n",
            " max_pooling2d_1 (MaxPoolin  (None, 30, 30, 64)        0         \n",
            " g2D)                                                            \n",
            "                                                                 \n",
            " conv2d_3 (Conv2D)           (None, 28, 28, 128)       73856     \n",
            "                                                                 \n",
            " max_pooling2d_2 (MaxPoolin  (None, 14, 14, 128)       0         \n",
            " g2D)                                                            \n",
            "                                                                 \n",
            " dropout (Dropout)           (None, 14, 14, 128)       0         \n",
            "                                                                 \n",
            " flatten (Flatten)           (None, 25088)             0         \n",
            "                                                                 \n",
            " dense (Dense)               (None, 64)                1605696   \n",
            "                                                                 \n",
            " dropout_1 (Dropout)         (None, 64)                0         \n",
            "                                                                 \n",
            " dense_1 (Dense)             (None, 4)                 260       \n",
            "                                                                 \n",
            "=================================================================\n",
            "Total params: 1703108 (6.50 MB)\n",
            "Trainable params: 1703108 (6.50 MB)\n",
            "Non-trainable params: 0 (0.00 Byte)\n",
            "_________________________________________________________________\n"
          ]
        }
      ]
    },
    {
      "cell_type": "code",
      "source": [
        "CNN.compile(loss=\"categorical_crossentropy\", optimizer=\"Adam\", metrics=[\"accuracy\"])"
      ],
      "metadata": {
        "id": "ffoceXyUBxUL"
      },
      "execution_count": 10,
      "outputs": []
    },
    {
      "cell_type": "code",
      "source": [
        "training = CNN.fit(Xtrain,ytrain,epochs=50,validation_split=0.1)"
      ],
      "metadata": {
        "colab": {
          "base_uri": "https://localhost:8080/"
        },
        "id": "04vWb_QDCOtt",
        "outputId": "837cd64d-ed7b-49b5-cd4c-b01bf66e84b1"
      },
      "execution_count": 11,
      "outputs": [
        {
          "output_type": "stream",
          "name": "stdout",
          "text": [
            "Epoch 1/50\n",
            "146/146 [==============================] - 19s 39ms/step - loss: 0.8178 - accuracy: 0.6592 - val_loss: 0.5529 - val_accuracy: 0.8015\n",
            "Epoch 2/50\n",
            "146/146 [==============================] - 4s 30ms/step - loss: 0.4339 - accuracy: 0.8318 - val_loss: 0.4223 - val_accuracy: 0.8420\n",
            "Epoch 3/50\n",
            "146/146 [==============================] - 4s 30ms/step - loss: 0.3338 - accuracy: 0.8700 - val_loss: 0.3831 - val_accuracy: 0.8709\n",
            "Epoch 4/50\n",
            "146/146 [==============================] - 4s 31ms/step - loss: 0.2648 - accuracy: 0.8976 - val_loss: 0.3678 - val_accuracy: 0.9017\n",
            "Epoch 5/50\n",
            "146/146 [==============================] - 4s 30ms/step - loss: 0.1917 - accuracy: 0.9287 - val_loss: 0.3148 - val_accuracy: 0.8902\n",
            "Epoch 6/50\n",
            "146/146 [==============================] - 5s 31ms/step - loss: 0.1433 - accuracy: 0.9432 - val_loss: 0.3573 - val_accuracy: 0.9114\n",
            "Epoch 7/50\n",
            "146/146 [==============================] - 4s 31ms/step - loss: 0.1245 - accuracy: 0.9539 - val_loss: 0.3466 - val_accuracy: 0.9171\n",
            "Epoch 8/50\n",
            "146/146 [==============================] - 4s 30ms/step - loss: 0.0995 - accuracy: 0.9647 - val_loss: 0.3218 - val_accuracy: 0.9191\n",
            "Epoch 9/50\n",
            "146/146 [==============================] - 4s 31ms/step - loss: 0.0857 - accuracy: 0.9668 - val_loss: 0.3137 - val_accuracy: 0.9326\n",
            "Epoch 10/50\n",
            "146/146 [==============================] - 5s 31ms/step - loss: 0.0765 - accuracy: 0.9724 - val_loss: 0.2902 - val_accuracy: 0.9326\n",
            "Epoch 11/50\n",
            "146/146 [==============================] - 4s 30ms/step - loss: 0.0529 - accuracy: 0.9826 - val_loss: 0.5140 - val_accuracy: 0.9152\n",
            "Epoch 12/50\n",
            "146/146 [==============================] - 5s 31ms/step - loss: 0.0470 - accuracy: 0.9826 - val_loss: 0.4240 - val_accuracy: 0.9345\n",
            "Epoch 13/50\n",
            "146/146 [==============================] - 5s 31ms/step - loss: 0.0433 - accuracy: 0.9848 - val_loss: 0.4027 - val_accuracy: 0.9345\n",
            "Epoch 14/50\n",
            "146/146 [==============================] - 4s 30ms/step - loss: 0.0666 - accuracy: 0.9730 - val_loss: 0.3684 - val_accuracy: 0.9403\n",
            "Epoch 15/50\n",
            "146/146 [==============================] - 4s 30ms/step - loss: 0.0379 - accuracy: 0.9871 - val_loss: 0.4889 - val_accuracy: 0.9403\n",
            "Epoch 16/50\n",
            "146/146 [==============================] - 5s 32ms/step - loss: 0.0393 - accuracy: 0.9850 - val_loss: 0.4683 - val_accuracy: 0.9268\n",
            "Epoch 17/50\n",
            "146/146 [==============================] - 4s 30ms/step - loss: 0.0304 - accuracy: 0.9886 - val_loss: 0.4201 - val_accuracy: 0.9249\n",
            "Epoch 18/50\n",
            "146/146 [==============================] - 4s 30ms/step - loss: 0.0239 - accuracy: 0.9916 - val_loss: 0.4790 - val_accuracy: 0.9210\n",
            "Epoch 19/50\n",
            "146/146 [==============================] - 5s 32ms/step - loss: 0.0469 - accuracy: 0.9835 - val_loss: 0.4713 - val_accuracy: 0.9364\n",
            "Epoch 20/50\n",
            "146/146 [==============================] - 4s 30ms/step - loss: 0.0313 - accuracy: 0.9893 - val_loss: 0.5025 - val_accuracy: 0.9480\n",
            "Epoch 21/50\n",
            "146/146 [==============================] - 4s 30ms/step - loss: 0.0300 - accuracy: 0.9906 - val_loss: 0.3782 - val_accuracy: 0.9306\n",
            "Epoch 22/50\n",
            "146/146 [==============================] - 5s 31ms/step - loss: 0.0334 - accuracy: 0.9889 - val_loss: 0.4682 - val_accuracy: 0.9345\n",
            "Epoch 23/50\n",
            "146/146 [==============================] - 5s 31ms/step - loss: 0.0263 - accuracy: 0.9899 - val_loss: 0.5345 - val_accuracy: 0.9326\n",
            "Epoch 24/50\n",
            "146/146 [==============================] - 4s 30ms/step - loss: 0.0491 - accuracy: 0.9841 - val_loss: 0.3432 - val_accuracy: 0.9383\n",
            "Epoch 25/50\n",
            "146/146 [==============================] - 4s 31ms/step - loss: 0.0230 - accuracy: 0.9921 - val_loss: 0.4865 - val_accuracy: 0.9422\n",
            "Epoch 26/50\n",
            "146/146 [==============================] - 5s 31ms/step - loss: 0.0291 - accuracy: 0.9919 - val_loss: 0.4667 - val_accuracy: 0.9306\n",
            "Epoch 27/50\n",
            "146/146 [==============================] - 4s 30ms/step - loss: 0.0254 - accuracy: 0.9919 - val_loss: 0.4960 - val_accuracy: 0.9383\n",
            "Epoch 28/50\n",
            "146/146 [==============================] - 5s 31ms/step - loss: 0.0159 - accuracy: 0.9940 - val_loss: 0.6689 - val_accuracy: 0.9268\n",
            "Epoch 29/50\n",
            "146/146 [==============================] - 5s 31ms/step - loss: 0.0343 - accuracy: 0.9908 - val_loss: 0.5703 - val_accuracy: 0.9306\n",
            "Epoch 30/50\n",
            "146/146 [==============================] - 4s 30ms/step - loss: 0.0154 - accuracy: 0.9942 - val_loss: 0.5882 - val_accuracy: 0.9383\n",
            "Epoch 31/50\n",
            "146/146 [==============================] - 4s 30ms/step - loss: 0.0238 - accuracy: 0.9914 - val_loss: 0.5624 - val_accuracy: 0.9441\n",
            "Epoch 32/50\n",
            "146/146 [==============================] - 5s 31ms/step - loss: 0.0163 - accuracy: 0.9946 - val_loss: 0.5508 - val_accuracy: 0.9345\n",
            "Epoch 33/50\n",
            "146/146 [==============================] - 4s 30ms/step - loss: 0.0193 - accuracy: 0.9931 - val_loss: 0.5282 - val_accuracy: 0.9383\n",
            "Epoch 34/50\n",
            "146/146 [==============================] - 4s 30ms/step - loss: 0.0319 - accuracy: 0.9893 - val_loss: 0.6681 - val_accuracy: 0.9403\n",
            "Epoch 35/50\n",
            "146/146 [==============================] - 5s 31ms/step - loss: 0.0148 - accuracy: 0.9940 - val_loss: 0.6134 - val_accuracy: 0.9422\n",
            "Epoch 36/50\n",
            "146/146 [==============================] - 4s 31ms/step - loss: 0.0100 - accuracy: 0.9964 - val_loss: 0.8115 - val_accuracy: 0.9422\n",
            "Epoch 37/50\n",
            "146/146 [==============================] - 5s 32ms/step - loss: 0.0214 - accuracy: 0.9931 - val_loss: 0.5662 - val_accuracy: 0.9422\n",
            "Epoch 38/50\n",
            "146/146 [==============================] - 5s 31ms/step - loss: 0.0137 - accuracy: 0.9953 - val_loss: 0.5487 - val_accuracy: 0.9422\n",
            "Epoch 39/50\n",
            "146/146 [==============================] - 5s 31ms/step - loss: 0.0195 - accuracy: 0.9936 - val_loss: 0.5630 - val_accuracy: 0.9480\n",
            "Epoch 40/50\n",
            "146/146 [==============================] - 4s 30ms/step - loss: 0.0140 - accuracy: 0.9951 - val_loss: 0.6922 - val_accuracy: 0.9383\n",
            "Epoch 41/50\n",
            "146/146 [==============================] - 5s 31ms/step - loss: 0.0309 - accuracy: 0.9906 - val_loss: 0.5251 - val_accuracy: 0.9538\n",
            "Epoch 42/50\n",
            "146/146 [==============================] - 4s 30ms/step - loss: 0.0159 - accuracy: 0.9946 - val_loss: 0.5120 - val_accuracy: 0.9364\n",
            "Epoch 43/50\n",
            "146/146 [==============================] - 4s 30ms/step - loss: 0.0121 - accuracy: 0.9966 - val_loss: 0.6706 - val_accuracy: 0.9499\n",
            "Epoch 44/50\n",
            "146/146 [==============================] - 5s 31ms/step - loss: 0.0116 - accuracy: 0.9959 - val_loss: 0.7318 - val_accuracy: 0.9306\n",
            "Epoch 45/50\n",
            "146/146 [==============================] - 4s 30ms/step - loss: 0.0154 - accuracy: 0.9940 - val_loss: 0.6454 - val_accuracy: 0.9461\n",
            "Epoch 46/50\n",
            "146/146 [==============================] - 4s 30ms/step - loss: 0.0141 - accuracy: 0.9942 - val_loss: 0.5467 - val_accuracy: 0.9383\n",
            "Epoch 47/50\n",
            "146/146 [==============================] - 5s 31ms/step - loss: 0.0121 - accuracy: 0.9964 - val_loss: 0.6824 - val_accuracy: 0.9422\n",
            "Epoch 48/50\n",
            "146/146 [==============================] - 4s 30ms/step - loss: 0.0066 - accuracy: 0.9974 - val_loss: 0.7008 - val_accuracy: 0.9345\n",
            "Epoch 49/50\n",
            "146/146 [==============================] - 4s 31ms/step - loss: 0.0165 - accuracy: 0.9946 - val_loss: 0.5518 - val_accuracy: 0.9422\n",
            "Epoch 50/50\n",
            "146/146 [==============================] - 5s 32ms/step - loss: 0.0156 - accuracy: 0.9944 - val_loss: 0.5991 - val_accuracy: 0.9441\n"
          ]
        }
      ]
    },
    {
      "cell_type": "code",
      "source": [],
      "metadata": {
        "id": "aK8mgqE_CjK1"
      },
      "execution_count": 11,
      "outputs": []
    }
  ]
}